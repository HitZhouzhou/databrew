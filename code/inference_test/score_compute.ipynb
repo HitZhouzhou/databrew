{
 "cells": [
  {
   "cell_type": "code",
   "execution_count": 19,
   "metadata": {},
   "outputs": [
    {
     "name": "stdout",
     "output_type": "stream",
     "text": [
      "ground_truths_list: the negative result\\negative\\Negative.\n",
      "nan\n"
     ]
    }
   ],
   "source": [
    "import pandas as pd\n",
    "from score_compute import pre_recall_score\n",
    "\n",
    "df = pd.read_csv('../../data/out/stqa_training_lora_res.csv')\n",
    "\n",
    "row1 = df.iloc[0]\n",
    "print(f'ground_truths_list: {row1[\"ground_truths_list\"]}')\n",
    "\n",
    "for index,row in df.iterrows():\n",
    "    row['ground_truths_list'] = row['ground_truths_list'].split('\\\\')\n",
    "    if (type(row['llm_ans']) is not str):\n",
    "        print(row['llm_ans'])\n",
    "        row['llm_ans'] = ''\n",
    "    precision ,recall ,f1 = pre_recall_score([row['ground_truths_list']], [row['llm_ans']])\n",
    "    # print(f'precision: {precision}, recall: {recall}, f1: {f1}')\n",
    "    df.at[index, 'precision'] = precision\n",
    "    df.at[index, 'recall'] = recall\n",
    "    df.at[index, 'f1'] = f1\n",
    "\n",
    "df.to_csv('../../data/out/stqa_training_lora_res.csv', index=False)"
   ]
  },
  {
   "cell_type": "code",
   "execution_count": 20,
   "metadata": {},
   "outputs": [
    {
     "name": "stdout",
     "output_type": "stream",
     "text": [
      "26.86610372314515\n",
      "29.06027456027456\n",
      "26.465408057785556\n"
     ]
    }
   ],
   "source": [
    "print(df['f1'].mean())\n",
    "print(df['precision'].mean())\n",
    "print(df['recall'].mean())"
   ]
  },
  {
   "cell_type": "code",
   "execution_count": null,
   "metadata": {},
   "outputs": [],
   "source": []
  }
 ],
 "metadata": {
  "kernelspec": {
   "display_name": "bonito",
   "language": "python",
   "name": "python3"
  },
  "language_info": {
   "codemirror_mode": {
    "name": "ipython",
    "version": 3
   },
   "file_extension": ".py",
   "mimetype": "text/x-python",
   "name": "python",
   "nbconvert_exporter": "python",
   "pygments_lexer": "ipython3",
   "version": "3.10.14"
  }
 },
 "nbformat": 4,
 "nbformat_minor": 2
}
